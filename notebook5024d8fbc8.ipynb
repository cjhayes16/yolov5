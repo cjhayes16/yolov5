{
 "cells": [
  {
   "cell_type": "code",
   "execution_count": 1,
   "id": "93835a8b",
   "metadata": {
    "_cell_guid": "b1076dfc-b9ad-4769-8c92-a6c4dae69d19",
    "_uuid": "8f2839f25d086af736a60e9eeb907d3b93b6e0e5",
    "execution": {
     "iopub.execute_input": "2023-02-02T02:21:06.126726Z",
     "iopub.status.busy": "2023-02-02T02:21:06.125896Z",
     "iopub.status.idle": "2023-02-02T02:21:09.203873Z",
     "shell.execute_reply": "2023-02-02T02:21:09.202711Z"
    },
    "papermill": {
     "duration": 3.08479,
     "end_time": "2023-02-02T02:21:09.206546",
     "exception": false,
     "start_time": "2023-02-02T02:21:06.121756",
     "status": "completed"
    },
    "tags": []
   },
   "outputs": [
    {
     "name": "stdout",
     "output_type": "stream",
     "text": [
      "Cloning into 'yolov5'...\r\n",
      "remote: Enumerating objects: 16098, done.\u001b[K\r\n",
      "remote: Counting objects: 100% (11/11), done.\u001b[K\r\n",
      "remote: Compressing objects: 100% (11/11), done.\u001b[K\r\n",
      "remote: Total 16098 (delta 2), reused 0 (delta 0), pack-reused 16087\u001b[K\r\n",
      "Receiving objects: 100% (16098/16098), 15.84 MiB | 23.50 MiB/s, done.\r\n",
      "Resolving deltas: 100% (7750/7750), done.\r\n"
     ]
    }
   ],
   "source": [
    "!git clone https://github.com/cjhayes16/yolov5.git"
   ]
  },
  {
   "cell_type": "code",
   "execution_count": 2,
   "id": "d73067e9",
   "metadata": {
    "execution": {
     "iopub.execute_input": "2023-02-02T02:21:09.214911Z",
     "iopub.status.busy": "2023-02-02T02:21:09.214582Z",
     "iopub.status.idle": "2023-02-02T02:21:21.099834Z",
     "shell.execute_reply": "2023-02-02T02:21:21.098556Z"
    },
    "papermill": {
     "duration": 11.892192,
     "end_time": "2023-02-02T02:21:21.102322",
     "exception": false,
     "start_time": "2023-02-02T02:21:09.210130",
     "status": "completed"
    },
    "tags": []
   },
   "outputs": [
    {
     "name": "stdout",
     "output_type": "stream",
     "text": [
      "Requirement already satisfied: gitpython in /opt/conda/lib/python3.7/site-packages (from -r requirements.txt (line 5)) (3.1.27)\r\n",
      "Requirement already satisfied: ipython in /opt/conda/lib/python3.7/site-packages (from -r requirements.txt (line 6)) (7.33.0)\r\n",
      "Requirement already satisfied: matplotlib>=3.2.2 in /opt/conda/lib/python3.7/site-packages (from -r requirements.txt (line 7)) (3.5.2)\r\n",
      "Requirement already satisfied: numpy>=1.18.5 in /opt/conda/lib/python3.7/site-packages (from -r requirements.txt (line 8)) (1.21.6)\r\n",
      "Requirement already satisfied: opencv-python>=4.1.1 in /opt/conda/lib/python3.7/site-packages (from -r requirements.txt (line 9)) (4.5.4.60)\r\n",
      "Requirement already satisfied: Pillow>=7.1.2 in /opt/conda/lib/python3.7/site-packages (from -r requirements.txt (line 10)) (9.1.1)\r\n",
      "Requirement already satisfied: psutil in /opt/conda/lib/python3.7/site-packages (from -r requirements.txt (line 11)) (5.9.1)\r\n",
      "Requirement already satisfied: PyYAML>=5.3.1 in /opt/conda/lib/python3.7/site-packages (from -r requirements.txt (line 12)) (6.0)\r\n",
      "Requirement already satisfied: requests>=2.23.0 in /opt/conda/lib/python3.7/site-packages (from -r requirements.txt (line 13)) (2.28.1)\r\n",
      "Requirement already satisfied: scipy>=1.4.1 in /opt/conda/lib/python3.7/site-packages (from -r requirements.txt (line 14)) (1.7.3)\r\n",
      "Collecting thop>=0.1.1\r\n",
      "  Downloading thop-0.1.1.post2209072238-py3-none-any.whl (15 kB)\r\n",
      "Requirement already satisfied: torch>=1.7.0 in /opt/conda/lib/python3.7/site-packages (from -r requirements.txt (line 16)) (1.11.0)\r\n",
      "Requirement already satisfied: torchvision>=0.8.1 in /opt/conda/lib/python3.7/site-packages (from -r requirements.txt (line 17)) (0.12.0)\r\n",
      "Requirement already satisfied: tqdm>=4.64.0 in /opt/conda/lib/python3.7/site-packages (from -r requirements.txt (line 18)) (4.64.0)\r\n",
      "Requirement already satisfied: tensorboard>=2.4.1 in /opt/conda/lib/python3.7/site-packages (from -r requirements.txt (line 22)) (2.6.0)\r\n",
      "Requirement already satisfied: pandas>=1.1.4 in /opt/conda/lib/python3.7/site-packages (from -r requirements.txt (line 27)) (1.3.5)\r\n",
      "Requirement already satisfied: seaborn>=0.11.0 in /opt/conda/lib/python3.7/site-packages (from -r requirements.txt (line 28)) (0.11.2)\r\n",
      "Requirement already satisfied: gitdb<5,>=4.0.1 in /opt/conda/lib/python3.7/site-packages (from gitpython->-r requirements.txt (line 5)) (4.0.9)\r\n",
      "Requirement already satisfied: typing-extensions>=3.7.4.3 in /opt/conda/lib/python3.7/site-packages (from gitpython->-r requirements.txt (line 5)) (4.1.1)\r\n",
      "Requirement already satisfied: prompt-toolkit!=3.0.0,!=3.0.1,<3.1.0,>=2.0.0 in /opt/conda/lib/python3.7/site-packages (from ipython->-r requirements.txt (line 6)) (3.0.30)\r\n",
      "Requirement already satisfied: pexpect>4.3 in /opt/conda/lib/python3.7/site-packages (from ipython->-r requirements.txt (line 6)) (4.8.0)\r\n",
      "Requirement already satisfied: matplotlib-inline in /opt/conda/lib/python3.7/site-packages (from ipython->-r requirements.txt (line 6)) (0.1.3)\r\n",
      "Requirement already satisfied: backcall in /opt/conda/lib/python3.7/site-packages (from ipython->-r requirements.txt (line 6)) (0.2.0)\r\n",
      "Requirement already satisfied: jedi>=0.16 in /opt/conda/lib/python3.7/site-packages (from ipython->-r requirements.txt (line 6)) (0.18.1)\r\n",
      "Requirement already satisfied: setuptools>=18.5 in /opt/conda/lib/python3.7/site-packages (from ipython->-r requirements.txt (line 6)) (59.8.0)\r\n",
      "Requirement already satisfied: traitlets>=4.2 in /opt/conda/lib/python3.7/site-packages (from ipython->-r requirements.txt (line 6)) (5.3.0)\r\n",
      "Requirement already satisfied: decorator in /opt/conda/lib/python3.7/site-packages (from ipython->-r requirements.txt (line 6)) (5.1.1)\r\n",
      "Requirement already satisfied: pygments in /opt/conda/lib/python3.7/site-packages (from ipython->-r requirements.txt (line 6)) (2.14.0)\r\n",
      "Requirement already satisfied: pickleshare in /opt/conda/lib/python3.7/site-packages (from ipython->-r requirements.txt (line 6)) (0.7.5)\r\n",
      "Requirement already satisfied: python-dateutil>=2.7 in /opt/conda/lib/python3.7/site-packages (from matplotlib>=3.2.2->-r requirements.txt (line 7)) (2.8.2)\r\n",
      "Requirement already satisfied: fonttools>=4.22.0 in /opt/conda/lib/python3.7/site-packages (from matplotlib>=3.2.2->-r requirements.txt (line 7)) (4.33.3)\r\n",
      "Requirement already satisfied: packaging>=20.0 in /opt/conda/lib/python3.7/site-packages (from matplotlib>=3.2.2->-r requirements.txt (line 7)) (23.0)\r\n",
      "Requirement already satisfied: cycler>=0.10 in /opt/conda/lib/python3.7/site-packages (from matplotlib>=3.2.2->-r requirements.txt (line 7)) (0.11.0)\r\n",
      "Requirement already satisfied: kiwisolver>=1.0.1 in /opt/conda/lib/python3.7/site-packages (from matplotlib>=3.2.2->-r requirements.txt (line 7)) (1.4.3)\r\n",
      "Requirement already satisfied: pyparsing>=2.2.1 in /opt/conda/lib/python3.7/site-packages (from matplotlib>=3.2.2->-r requirements.txt (line 7)) (3.0.9)\r\n",
      "Requirement already satisfied: urllib3<1.27,>=1.21.1 in /opt/conda/lib/python3.7/site-packages (from requests>=2.23.0->-r requirements.txt (line 13)) (1.26.14)\r\n",
      "Requirement already satisfied: certifi>=2017.4.17 in /opt/conda/lib/python3.7/site-packages (from requests>=2.23.0->-r requirements.txt (line 13)) (2022.12.7)\r\n",
      "Requirement already satisfied: idna<4,>=2.5 in /opt/conda/lib/python3.7/site-packages (from requests>=2.23.0->-r requirements.txt (line 13)) (3.3)\r\n",
      "Requirement already satisfied: charset-normalizer<3,>=2 in /opt/conda/lib/python3.7/site-packages (from requests>=2.23.0->-r requirements.txt (line 13)) (2.1.0)\r\n",
      "Requirement already satisfied: google-auth-oauthlib<0.5,>=0.4.1 in /opt/conda/lib/python3.7/site-packages (from tensorboard>=2.4.1->-r requirements.txt (line 22)) (0.4.6)\r\n",
      "Requirement already satisfied: markdown>=2.6.8 in /opt/conda/lib/python3.7/site-packages (from tensorboard>=2.4.1->-r requirements.txt (line 22)) (3.3.7)\r\n",
      "Requirement already satisfied: absl-py>=0.4 in /opt/conda/lib/python3.7/site-packages (from tensorboard>=2.4.1->-r requirements.txt (line 22)) (0.15.0)\r\n",
      "Requirement already satisfied: grpcio>=1.24.3 in /opt/conda/lib/python3.7/site-packages (from tensorboard>=2.4.1->-r requirements.txt (line 22)) (1.51.1)\r\n",
      "Requirement already satisfied: protobuf>=3.6.0 in /opt/conda/lib/python3.7/site-packages (from tensorboard>=2.4.1->-r requirements.txt (line 22)) (3.19.4)\r\n",
      "Requirement already satisfied: google-auth<2,>=1.6.3 in /opt/conda/lib/python3.7/site-packages (from tensorboard>=2.4.1->-r requirements.txt (line 22)) (1.35.0)\r\n",
      "Requirement already satisfied: tensorboard-plugin-wit>=1.6.0 in /opt/conda/lib/python3.7/site-packages (from tensorboard>=2.4.1->-r requirements.txt (line 22)) (1.8.1)\r\n",
      "Requirement already satisfied: tensorboard-data-server<0.7.0,>=0.6.0 in /opt/conda/lib/python3.7/site-packages (from tensorboard>=2.4.1->-r requirements.txt (line 22)) (0.6.1)\r\n",
      "Requirement already satisfied: werkzeug>=0.11.15 in /opt/conda/lib/python3.7/site-packages (from tensorboard>=2.4.1->-r requirements.txt (line 22)) (2.2.2)\r\n",
      "Requirement already satisfied: wheel>=0.26 in /opt/conda/lib/python3.7/site-packages (from tensorboard>=2.4.1->-r requirements.txt (line 22)) (0.37.1)\r\n",
      "Requirement already satisfied: pytz>=2017.3 in /opt/conda/lib/python3.7/site-packages (from pandas>=1.1.4->-r requirements.txt (line 27)) (2022.1)\r\n",
      "Requirement already satisfied: six in /opt/conda/lib/python3.7/site-packages (from absl-py>=0.4->tensorboard>=2.4.1->-r requirements.txt (line 22)) (1.15.0)\r\n",
      "Requirement already satisfied: smmap<6,>=3.0.1 in /opt/conda/lib/python3.7/site-packages (from gitdb<5,>=4.0.1->gitpython->-r requirements.txt (line 5)) (3.0.5)\r\n",
      "Requirement already satisfied: rsa<5,>=3.1.4 in /opt/conda/lib/python3.7/site-packages (from google-auth<2,>=1.6.3->tensorboard>=2.4.1->-r requirements.txt (line 22)) (4.8)\r\n",
      "Requirement already satisfied: cachetools<5.0,>=2.0.0 in /opt/conda/lib/python3.7/site-packages (from google-auth<2,>=1.6.3->tensorboard>=2.4.1->-r requirements.txt (line 22)) (4.2.4)\r\n",
      "Requirement already satisfied: pyasn1-modules>=0.2.1 in /opt/conda/lib/python3.7/site-packages (from google-auth<2,>=1.6.3->tensorboard>=2.4.1->-r requirements.txt (line 22)) (0.2.7)\r\n",
      "Requirement already satisfied: requests-oauthlib>=0.7.0 in /opt/conda/lib/python3.7/site-packages (from google-auth-oauthlib<0.5,>=0.4.1->tensorboard>=2.4.1->-r requirements.txt (line 22)) (1.3.1)\r\n",
      "Requirement already satisfied: parso<0.9.0,>=0.8.0 in /opt/conda/lib/python3.7/site-packages (from jedi>=0.16->ipython->-r requirements.txt (line 6)) (0.8.3)\r\n",
      "Requirement already satisfied: importlib-metadata>=4.4 in /opt/conda/lib/python3.7/site-packages (from markdown>=2.6.8->tensorboard>=2.4.1->-r requirements.txt (line 22)) (6.0.0)\r\n",
      "Requirement already satisfied: ptyprocess>=0.5 in /opt/conda/lib/python3.7/site-packages (from pexpect>4.3->ipython->-r requirements.txt (line 6)) (0.7.0)\r\n",
      "Requirement already satisfied: wcwidth in /opt/conda/lib/python3.7/site-packages (from prompt-toolkit!=3.0.0,!=3.0.1,<3.1.0,>=2.0.0->ipython->-r requirements.txt (line 6)) (0.2.5)\r\n",
      "Requirement already satisfied: MarkupSafe>=2.1.1 in /opt/conda/lib/python3.7/site-packages (from werkzeug>=0.11.15->tensorboard>=2.4.1->-r requirements.txt (line 22)) (2.1.2)\r\n",
      "Requirement already satisfied: zipp>=0.5 in /opt/conda/lib/python3.7/site-packages (from importlib-metadata>=4.4->markdown>=2.6.8->tensorboard>=2.4.1->-r requirements.txt (line 22)) (3.8.0)\r\n",
      "Requirement already satisfied: pyasn1<0.5.0,>=0.4.6 in /opt/conda/lib/python3.7/site-packages (from pyasn1-modules>=0.2.1->google-auth<2,>=1.6.3->tensorboard>=2.4.1->-r requirements.txt (line 22)) (0.4.8)\r\n",
      "Requirement already satisfied: oauthlib>=3.0.0 in /opt/conda/lib/python3.7/site-packages (from requests-oauthlib>=0.7.0->google-auth-oauthlib<0.5,>=0.4.1->tensorboard>=2.4.1->-r requirements.txt (line 22)) (3.2.0)\r\n",
      "Installing collected packages: thop\r\n",
      "Successfully installed thop-0.1.1.post2209072238\r\n",
      "\u001b[33mWARNING: Running pip as the 'root' user can result in broken permissions and conflicting behaviour with the system package manager. It is recommended to use a virtual environment instead: https://pip.pypa.io/warnings/venv\u001b[0m\u001b[33m\r\n",
      "\u001b[0m"
     ]
    }
   ],
   "source": [
    "!mv yolov5/* ./\n",
    "!pip install -r requirements.txt"
   ]
  },
  {
   "cell_type": "code",
   "execution_count": 3,
   "id": "f137b0d1",
   "metadata": {
    "execution": {
     "iopub.execute_input": "2023-02-02T02:21:21.112036Z",
     "iopub.status.busy": "2023-02-02T02:21:21.111719Z",
     "iopub.status.idle": "2023-02-02T02:21:34.208436Z",
     "shell.execute_reply": "2023-02-02T02:21:34.207236Z"
    },
    "papermill": {
     "duration": 13.104186,
     "end_time": "2023-02-02T02:21:34.210871",
     "exception": false,
     "start_time": "2023-02-02T02:21:21.106685",
     "status": "completed"
    },
    "tags": []
   },
   "outputs": [
    {
     "name": "stdout",
     "output_type": "stream",
     "text": [
      "/opt/conda/lib/python3.7/site-packages/torch/distributed/launch.py:186: FutureWarning: The module torch.distributed.launch is deprecated\r\n",
      "and will be removed in future. Use torchrun.\r\n",
      "Note that --use_env is set by default in torchrun.\r\n",
      "If your script expects `--local_rank` argument to be set, please\r\n",
      "change it to read from `os.environ['LOCAL_RANK']` instead. See \r\n",
      "https://pytorch.org/docs/stable/distributed.html#launch-utility for \r\n",
      "further instructions\r\n",
      "\r\n",
      "  FutureWarning,\r\n",
      "Traceback (most recent call last):\r\n",
      "  File \"train.py\", line 634, in <module>\r\n",
      "    main(opt)\r\n",
      "  File \"train.py\", line 503, in main\r\n",
      "    check_file(opt.data), check_yaml(opt.cfg), check_yaml(opt.hyp), str(opt.weights), str(opt.project)  # checks\r\n",
      "  File \"/kaggle/working/utils/general.py\", line 484, in check_file\r\n",
      "    assert len(files) == 1, f\"Multiple files match '{file}', specify exact path: {files}\"  # assert unique\r\n",
      "AssertionError: Multiple files match '/kaggle/input/humanyaml', specify exact path: ['/kaggle/input/humanyaml', '/kaggle/input/humanyaml', '/kaggle/input/humanyaml']\r\n",
      "\u001b[34m\u001b[1mwandb\u001b[0m: (1) Create a W&B account\r\n",
      "\u001b[34m\u001b[1mwandb\u001b[0m: (2) Use an existing W&B account\r\n",
      "\u001b[34m\u001b[1mwandb\u001b[0m: (3) Don't visualize my results\r\n",
      "\u001b[34m\u001b[1mwandb\u001b[0m: Enter your choice: (30 second timeout) Traceback (most recent call last):\r\n",
      "  File \"/opt/conda/lib/python3.7/runpy.py\", line 193, in _run_module_as_main\r\n",
      "    \"__main__\", mod_spec)\r\n",
      "  File \"/opt/conda/lib/python3.7/runpy.py\", line 85, in _run_code\r\n",
      "    exec(code, run_globals)\r\n",
      "  File \"/opt/conda/lib/python3.7/site-packages/torch/distributed/launch.py\", line 193, in <module>\r\n",
      "    main()\r\n",
      "  File \"/opt/conda/lib/python3.7/site-packages/torch/distributed/launch.py\", line 189, in main\r\n",
      "    launch(args)\r\n",
      "  File \"/opt/conda/lib/python3.7/site-packages/torch/distributed/launch.py\", line 174, in launch\r\n",
      "    run(args)\r\n",
      "  File \"/opt/conda/lib/python3.7/site-packages/torch/distributed/run.py\", line 718, in run\r\n",
      "    )(*cmd_args)\r\n",
      "  File \"/opt/conda/lib/python3.7/site-packages/torch/distributed/launcher/api.py\", line 131, in __call__\r\n",
      "    return launch_agent(self._config, self._entrypoint, list(args))\r\n",
      "  File \"/opt/conda/lib/python3.7/site-packages/torch/distributed/launcher/api.py\", line 247, in launch_agent\r\n",
      "    failures=result.failures,\r\n",
      "torch.distributed.elastic.multiprocessing.errors.ChildFailedError: \r\n",
      "============================================================\r\n",
      "train.py FAILED\r\n",
      "------------------------------------------------------------\r\n",
      "Failures:\r\n",
      "  <NO_OTHER_FAILURES>\r\n",
      "------------------------------------------------------------\r\n",
      "Root Cause (first observed failure):\r\n",
      "[0]:\r\n",
      "  time      : 2023-02-02_02:21:33\r\n",
      "  host      : e99a64de953b\r\n",
      "  rank      : 1 (local_rank: 1)\r\n",
      "  exitcode  : 1 (pid: 84)\r\n",
      "  error_file: <N/A>\r\n",
      "  traceback : To enable traceback see: https://pytorch.org/docs/stable/elastic/errors.html\r\n",
      "============================================================\r\n"
     ]
    }
   ],
   "source": [
    "!python -m torch.distributed.launch --nproc_per_node 2   train.py --batch 64  --data /kaggle/input/humanyaml   --device 0,1 "
   ]
  }
 ],
 "metadata": {
  "kernelspec": {
   "display_name": "Python 3",
   "language": "python",
   "name": "python3"
  },
  "language_info": {
   "codemirror_mode": {
    "name": "ipython",
    "version": 3
   },
   "file_extension": ".py",
   "mimetype": "text/x-python",
   "name": "python",
   "nbconvert_exporter": "python",
   "pygments_lexer": "ipython3",
   "version": "3.7.12"
  },
  "papermill": {
   "default_parameters": {},
   "duration": 36.427534,
   "end_time": "2023-02-02T02:21:34.735617",
   "environment_variables": {},
   "exception": null,
   "input_path": "__notebook__.ipynb",
   "output_path": "__notebook__.ipynb",
   "parameters": {},
   "start_time": "2023-02-02T02:20:58.308083",
   "version": "2.3.4"
  }
 },
 "nbformat": 4,
 "nbformat_minor": 5
}
