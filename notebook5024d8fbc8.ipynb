{
 "cells": [
  {
   "cell_type": "raw",
   "id": "9f091662",
   "metadata": {
    "_cell_guid": "b1076dfc-b9ad-4769-8c92-a6c4dae69d19",
    "_uuid": "8f2839f25d086af736a60e9eeb907d3b93b6e0e5",
    "execution": {
     "iopub.execute_input": "2023-01-31T06:11:58.111400Z",
     "iopub.status.busy": "2023-01-31T06:11:58.111077Z",
     "iopub.status.idle": "2023-01-31T06:12:01.987936Z",
     "shell.execute_reply": "2023-01-31T06:12:01.986614Z",
     "shell.execute_reply.started": "2023-01-31T06:11:58.111323Z"
    },
    "papermill": {
     "duration": 0.002513,
     "end_time": "2023-02-02T02:26:22.202457",
     "exception": false,
     "start_time": "2023-02-02T02:26:22.199944",
     "status": "completed"
    },
    "tags": []
   },
   "source": [
    "!git clone https://github.com/cjhayes16/yolov5.git"
   ]
  },
  {
   "cell_type": "code",
   "execution_count": 1,
   "id": "f294480d",
   "metadata": {
    "execution": {
     "iopub.execute_input": "2023-02-02T02:26:22.207556Z",
     "iopub.status.busy": "2023-02-02T02:26:22.207003Z",
     "iopub.status.idle": "2023-02-02T02:26:25.787824Z",
     "shell.execute_reply": "2023-02-02T02:26:25.786534Z"
    },
    "papermill": {
     "duration": 3.586682,
     "end_time": "2023-02-02T02:26:25.790788",
     "exception": false,
     "start_time": "2023-02-02T02:26:22.204106",
     "status": "completed"
    },
    "tags": []
   },
   "outputs": [
    {
     "name": "stdout",
     "output_type": "stream",
     "text": [
      "mv: cannot stat 'yolov5/*': No such file or directory\r\n",
      "\u001b[31mERROR: Could not open requirements file: [Errno 2] No such file or directory: 'requirements.txt'\u001b[0m\u001b[31m\r\n",
      "\u001b[0m"
     ]
    }
   ],
   "source": [
    "!mv yolov5/* ./\n",
    "!pip install -r requirements.txt"
   ]
  },
  {
   "cell_type": "code",
   "execution_count": 2,
   "id": "45ca6d48",
   "metadata": {
    "execution": {
     "iopub.execute_input": "2023-02-02T02:26:25.796687Z",
     "iopub.status.busy": "2023-02-02T02:26:25.796243Z",
     "iopub.status.idle": "2023-02-02T02:26:34.886447Z",
     "shell.execute_reply": "2023-02-02T02:26:34.885063Z"
    },
    "papermill": {
     "duration": 9.096375,
     "end_time": "2023-02-02T02:26:34.889218",
     "exception": false,
     "start_time": "2023-02-02T02:26:25.792843",
     "status": "completed"
    },
    "tags": []
   },
   "outputs": [
    {
     "name": "stdout",
     "output_type": "stream",
     "text": [
      "/opt/conda/lib/python3.7/site-packages/torch/distributed/launch.py:186: FutureWarning: The module torch.distributed.launch is deprecated\r\n",
      "and will be removed in future. Use torchrun.\r\n",
      "Note that --use_env is set by default in torchrun.\r\n",
      "If your script expects `--local_rank` argument to be set, please\r\n",
      "change it to read from `os.environ['LOCAL_RANK']` instead. See \r\n",
      "https://pytorch.org/docs/stable/distributed.html#launch-utility for \r\n",
      "further instructions\r\n",
      "\r\n",
      "  FutureWarning,\r\n",
      "/opt/conda/bin/python: can't open file 'train.py': [Errno 2] No such file or directory\r\n",
      "/opt/conda/bin/python: can't open file 'train.py': [Errno 2] No such file or directory\r\n",
      "Traceback (most recent call last):\r\n",
      "  File \"/opt/conda/lib/python3.7/runpy.py\", line 193, in _run_module_as_main\r\n",
      "    \"__main__\", mod_spec)\r\n",
      "  File \"/opt/conda/lib/python3.7/runpy.py\", line 85, in _run_code\r\n",
      "    exec(code, run_globals)\r\n",
      "  File \"/opt/conda/lib/python3.7/site-packages/torch/distributed/launch.py\", line 193, in <module>\r\n",
      "    main()\r\n",
      "  File \"/opt/conda/lib/python3.7/site-packages/torch/distributed/launch.py\", line 189, in main\r\n",
      "    launch(args)\r\n",
      "  File \"/opt/conda/lib/python3.7/site-packages/torch/distributed/launch.py\", line 174, in launch\r\n",
      "    run(args)\r\n",
      "  File \"/opt/conda/lib/python3.7/site-packages/torch/distributed/run.py\", line 718, in run\r\n",
      "    )(*cmd_args)\r\n",
      "  File \"/opt/conda/lib/python3.7/site-packages/torch/distributed/launcher/api.py\", line 131, in __call__\r\n",
      "    return launch_agent(self._config, self._entrypoint, list(args))\r\n",
      "  File \"/opt/conda/lib/python3.7/site-packages/torch/distributed/launcher/api.py\", line 247, in launch_agent\r\n",
      "    failures=result.failures,\r\n",
      "torch.distributed.elastic.multiprocessing.errors.ChildFailedError: \r\n",
      "============================================================\r\n",
      "train.py FAILED\r\n",
      "------------------------------------------------------------\r\n",
      "Failures:\r\n",
      "[1]:\r\n",
      "  time      : 2023-02-02_02:26:34\r\n",
      "  host      : 09c36df0da4c\r\n",
      "  rank      : 1 (local_rank: 1)\r\n",
      "  exitcode  : 2 (pid: 68)\r\n",
      "  error_file: <N/A>\r\n",
      "  traceback : To enable traceback see: https://pytorch.org/docs/stable/elastic/errors.html\r\n",
      "------------------------------------------------------------\r\n",
      "Root Cause (first observed failure):\r\n",
      "[0]:\r\n",
      "  time      : 2023-02-02_02:26:34\r\n",
      "  host      : 09c36df0da4c\r\n",
      "  rank      : 0 (local_rank: 0)\r\n",
      "  exitcode  : 2 (pid: 67)\r\n",
      "  error_file: <N/A>\r\n",
      "  traceback : To enable traceback see: https://pytorch.org/docs/stable/elastic/errors.html\r\n",
      "============================================================\r\n"
     ]
    }
   ],
   "source": [
    "!python -m torch.distributed.launch --nproc_per_node 2   train.py --batch 64  --data /kaggle/input/humanyaml/human.yaml   --device 0,1 "
   ]
  }
 ],
 "metadata": {
  "kernelspec": {
   "display_name": "Python 3",
   "language": "python",
   "name": "python3"
  },
  "language_info": {
   "codemirror_mode": {
    "name": "ipython",
    "version": 3
   },
   "file_extension": ".py",
   "mimetype": "text/x-python",
   "name": "python",
   "nbconvert_exporter": "python",
   "pygments_lexer": "ipython3",
   "version": "3.7.12"
  },
  "papermill": {
   "default_parameters": {},
   "duration": 21.266996,
   "end_time": "2023-02-02T02:26:35.412596",
   "environment_variables": {},
   "exception": null,
   "input_path": "__notebook__.ipynb",
   "output_path": "__notebook__.ipynb",
   "parameters": {},
   "start_time": "2023-02-02T02:26:14.145600",
   "version": "2.3.4"
  }
 },
 "nbformat": 4,
 "nbformat_minor": 5
}
